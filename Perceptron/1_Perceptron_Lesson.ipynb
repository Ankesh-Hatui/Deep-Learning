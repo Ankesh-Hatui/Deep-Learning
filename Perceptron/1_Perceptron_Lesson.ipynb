{
  "nbformat": 4,
  "nbformat_minor": 0,
  "metadata": {
    "colab": {
      "provenance": []
    },
    "kernelspec": {
      "name": "python3",
      "display_name": "Python 3"
    },
    "language_info": {
      "name": "python"
    }
  },
  "cells": [
    {
      "cell_type": "code",
      "execution_count": null,
      "metadata": {
        "id": "3uTMjZu-Ce_m"
      },
      "outputs": [],
      "source": [
        "import numpy as np\n",
        "import matplotlib.pyplot as plt"
      ]
    },
    {
      "cell_type": "code",
      "source": [
        "from sklearn.datasets import make_classification\n",
        "x,y= make_classification(\n",
        "    n_samples=100,\n",
        "    n_features=2,\n",
        "    n_classes=2,\n",
        "    n_informative=1,\n",
        "    n_clusters_per_class=1,\n",
        "    n_redundant=0,\n",
        "    random_state=999\n",
        ")"
      ],
      "metadata": {
        "id": "r5abIsjHDmab"
      },
      "execution_count": null,
      "outputs": []
    },
    {
      "cell_type": "code",
      "source": [
        "x"
      ],
      "metadata": {
        "colab": {
          "base_uri": "https://localhost:8080/"
        },
        "id": "FhiA0sDlMvyk",
        "outputId": "0f506f10-c279-486b-bf48-4ebe8703a6a3"
      },
      "execution_count": null,
      "outputs": [
        {
          "output_type": "execute_result",
          "data": {
            "text/plain": [
              "array([[ 1.32379573e+00,  5.94776607e-01],\n",
              "       [-1.02235794e+00, -7.06829233e-01],\n",
              "       [ 8.47184489e-01,  6.83759416e-01],\n",
              "       [ 1.01695179e+00,  5.73824265e-01],\n",
              "       [-1.01435482e+00, -3.07199131e-01],\n",
              "       [-9.62491671e-01, -1.10145252e+00],\n",
              "       [-1.02043841e+00,  2.20425054e-03],\n",
              "       [ 1.29456060e+00, -2.00117592e-01],\n",
              "       [ 1.33894572e+00,  1.63103412e+00],\n",
              "       [ 1.78162798e+00,  7.40706755e-01],\n",
              "       [-9.93633747e-01,  4.80260689e-01],\n",
              "       [ 1.15065404e+00, -7.91310450e-01],\n",
              "       [ 1.27709562e+00,  1.39975884e-02],\n",
              "       [-1.01879065e+00, -7.32420476e-01],\n",
              "       [ 8.62460100e-01, -4.95672813e-01],\n",
              "       [-9.91511125e-01,  1.34203593e+00],\n",
              "       [-1.00022533e+00,  5.24144832e-01],\n",
              "       [ 1.57470731e+00, -1.68328897e-01],\n",
              "       [-9.84095878e-01, -1.63568012e+00],\n",
              "       [ 1.27759794e+00, -7.25859267e-01],\n",
              "       [ 1.09545255e+00, -5.78382559e-01],\n",
              "       [-9.86477428e-01, -1.56384444e+00],\n",
              "       [ 1.57518209e+00, -9.26855776e-01],\n",
              "       [-9.74327525e-01,  1.38059080e+00],\n",
              "       [ 9.36549425e-01,  9.51468597e-01],\n",
              "       [ 1.13590740e+00, -1.20459298e+00],\n",
              "       [-9.93693224e-01,  4.50978930e-02],\n",
              "       [-1.04920850e+00,  4.38167317e-01],\n",
              "       [-1.04736910e+00,  7.34929721e-01],\n",
              "       [-1.01015518e+00, -8.73310300e-01],\n",
              "       [-1.00429659e+00,  7.30042527e-02],\n",
              "       [-9.91007468e-01, -1.77102969e-02],\n",
              "       [ 1.28593092e+00,  4.80130672e-01],\n",
              "       [ 6.81638018e-01,  8.34978932e-01],\n",
              "       [-1.03326038e+00,  3.74990260e-01],\n",
              "       [-1.01889877e+00,  6.01607606e-01],\n",
              "       [-1.03602583e+00, -1.28077733e+00],\n",
              "       [ 8.70747904e-01,  2.11189887e-01],\n",
              "       [ 9.81504711e-01,  1.06855293e+00],\n",
              "       [ 6.39490242e-01, -3.08711192e-01],\n",
              "       [ 1.41602145e+00,  1.63830921e+00],\n",
              "       [-9.88086159e-01,  2.05792479e+00],\n",
              "       [-1.02862046e+00, -1.00681526e+00],\n",
              "       [-1.01063742e+00, -9.27676820e-01],\n",
              "       [-1.01623657e+00,  2.80945523e-01],\n",
              "       [ 7.52856089e-01,  2.26361303e-01],\n",
              "       [-1.01601663e+00,  2.20616041e-02],\n",
              "       [-1.03907135e+00,  3.07058362e+00],\n",
              "       [ 1.31646921e+00,  8.95740664e-01],\n",
              "       [ 9.70459331e-01,  2.34505781e-02],\n",
              "       [-9.29333782e-01, -1.68432844e+00],\n",
              "       [ 1.64923861e+00,  7.72656448e-01],\n",
              "       [-1.00233974e+00,  4.22433624e-01],\n",
              "       [-1.00240426e+00,  1.22035110e+00],\n",
              "       [-1.05905632e+00,  6.65651468e-01],\n",
              "       [-9.37771949e-01,  3.58094045e-01],\n",
              "       [ 1.08002917e+00, -2.79994655e-03],\n",
              "       [ 1.33989616e+00, -5.80480892e-01],\n",
              "       [-9.71006398e-01,  8.59086300e-01],\n",
              "       [ 1.06019214e+00,  1.13387171e+00],\n",
              "       [-9.99918576e-01,  1.40697963e-02],\n",
              "       [-9.42468980e-01, -3.77431495e-01],\n",
              "       [ 9.87723272e-01, -2.52527304e-01],\n",
              "       [-9.71770705e-01, -7.12124255e-01],\n",
              "       [-1.05409255e+00, -2.47045469e-01],\n",
              "       [-9.80239211e-01, -4.27706733e-01],\n",
              "       [ 1.03417820e+00,  8.99208037e-01],\n",
              "       [ 5.52674801e-01,  8.65988248e-02],\n",
              "       [ 1.38089274e+00, -1.29830176e+00],\n",
              "       [ 6.61377988e-01, -3.17176051e+00],\n",
              "       [-9.94549605e-01,  2.12497983e-01],\n",
              "       [-9.83152404e-01,  1.04397705e+00],\n",
              "       [-9.76069181e-01, -2.06958223e+00],\n",
              "       [ 1.17401584e+00, -1.98764559e-01],\n",
              "       [ 1.47288803e+00, -1.13629288e+00],\n",
              "       [-1.05292330e+00, -1.18823626e+00],\n",
              "       [-1.03194093e+00,  1.88146757e-01],\n",
              "       [ 1.07754217e+00, -4.84717779e-01],\n",
              "       [ 1.19798855e+00, -6.92289946e-01],\n",
              "       [-1.01065135e+00, -1.21199397e+00],\n",
              "       [ 1.40302795e+00, -7.38721473e-01],\n",
              "       [-1.07197335e+00,  1.07865774e+00],\n",
              "       [ 1.03126040e+00,  7.98110983e-02],\n",
              "       [-9.55793737e-01,  1.19917394e+00],\n",
              "       [-9.48908541e-01, -5.12501327e-01],\n",
              "       [ 1.04765582e+00, -4.24995188e-01],\n",
              "       [-9.86183372e-01, -5.05895627e-01],\n",
              "       [ 5.09016677e-01, -1.05772457e+00],\n",
              "       [ 1.19226013e+00,  2.76314035e-01],\n",
              "       [-9.78074012e-01,  1.70184344e+00],\n",
              "       [ 8.50096127e-01,  7.63739735e-01],\n",
              "       [ 9.05226617e-01,  2.97862618e-01],\n",
              "       [-1.02747161e+00, -1.08525169e+00],\n",
              "       [ 5.40739466e-01, -5.00549586e-01],\n",
              "       [ 9.58568579e-01, -3.82745811e-01],\n",
              "       [-9.70993488e-01, -7.13609186e-01],\n",
              "       [ 1.45268120e+00, -5.04001050e-01],\n",
              "       [ 7.18187202e-01,  7.92215093e-01],\n",
              "       [ 1.56988660e+00, -1.90247557e+00],\n",
              "       [ 8.59004426e-01, -5.18304047e-01]])"
            ]
          },
          "metadata": {},
          "execution_count": 70
        }
      ]
    },
    {
      "cell_type": "code",
      "source": [
        "x.shape\n",
        "epochs=1000"
      ],
      "metadata": {
        "id": "Ax2j4XEpEeQy"
      },
      "execution_count": null,
      "outputs": []
    },
    {
      "cell_type": "code",
      "source": [
        "y"
      ],
      "metadata": {
        "colab": {
          "base_uri": "https://localhost:8080/"
        },
        "id": "adtKMQ_ZFOaa",
        "outputId": "513b028b-441d-4ff2-eb47-5cb05ecb00f9"
      },
      "execution_count": null,
      "outputs": [
        {
          "output_type": "execute_result",
          "data": {
            "text/plain": [
              "array([1, 0, 1, 1, 0, 0, 0, 1, 1, 1, 0, 1, 1, 0, 1, 0, 0, 1, 0, 0, 1, 0,\n",
              "       1, 0, 1, 1, 0, 0, 0, 0, 0, 0, 1, 1, 0, 0, 0, 1, 1, 1, 1, 0, 0, 0,\n",
              "       0, 1, 0, 0, 1, 1, 0, 1, 0, 0, 0, 0, 1, 1, 0, 1, 0, 0, 1, 0, 0, 0,\n",
              "       1, 1, 1, 1, 0, 0, 0, 1, 1, 0, 0, 1, 1, 0, 1, 0, 1, 0, 0, 1, 0, 1,\n",
              "       1, 0, 1, 1, 0, 1, 1, 0, 1, 1, 1, 1])"
            ]
          },
          "metadata": {},
          "execution_count": 72
        }
      ]
    },
    {
      "cell_type": "code",
      "source": [
        "def step(z):\n",
        "  if z>0:\n",
        "    return 1\n",
        "  return 0"
      ],
      "metadata": {
        "id": "Hg1H6TEDHy-F"
      },
      "execution_count": null,
      "outputs": []
    },
    {
      "cell_type": "code",
      "source": [
        "# Function Main\n",
        "\n",
        "def Perceptron(x,y):\n",
        "  x=np.insert(x,0,1,axis=1)\n",
        "\n",
        "  weights=np.ones(x.shape[1])\n",
        "\n",
        "  lr=0.01\n",
        "\n",
        "  for i in range(epochs):\n",
        "    num= np.random.randint(0,100)\n",
        "    y_dash=step(np.dot(x[num],weights))\n",
        "\n",
        "    weights=weights+lr*(y[num]-y_dash)*x[num]\n",
        "\n",
        "  return weights[0],weights[1:]\n",
        "\n",
        "\n"
      ],
      "metadata": {
        "id": "WjVcf_aAFSMN"
      },
      "execution_count": null,
      "outputs": []
    },
    {
      "cell_type": "code",
      "source": [
        "bias,w=Perceptron(x,y)\n",
        "print(bias,w)"
      ],
      "metadata": {
        "colab": {
          "base_uri": "https://localhost:8080/"
        },
        "id": "fXPOmyJiH9Q8",
        "outputId": "1d6cca7b-d6be-4e0c-9626-602081671b0e"
      },
      "execution_count": null,
      "outputs": [
        {
          "output_type": "stream",
          "name": "stdout",
          "text": [
            "0.47999999999999954 [1.39106752 0.30755452]\n"
          ]
        }
      ]
    },
    {
      "cell_type": "code",
      "source": [
        "x_input= np.linspace(-3,3,100) # this will cretae 100 points in range [-3,3]\n",
        "m=-(w[0]/w[1])\n",
        "c=-(bias/w[1])\n",
        "y_input= x_input*m + c\n",
        "plt.figure(figsize=(10,6))\n",
        "plt.plot(x_input,y_input,color='red',linewidth=3)\n",
        "plt.scatter(x[:,0],x[:,1],c=y,cmap='winter',s=100)\n",
        "plt.ylim(-3,3)"
      ],
      "metadata": {
        "colab": {
          "base_uri": "https://localhost:8080/",
          "height": 546
        },
        "id": "Emc2QkWVIib6",
        "outputId": "be262271-6a64-4046-d764-3fbfdaee5139"
      },
      "execution_count": null,
      "outputs": [
        {
          "output_type": "execute_result",
          "data": {
            "text/plain": [
              "(-3.0, 3.0)"
            ]
          },
          "metadata": {},
          "execution_count": 76
        },
        {
          "output_type": "display_data",
          "data": {
            "text/plain": [
              "<Figure size 1000x600 with 1 Axes>"
            ],
            "image/png": "[encoded data removed]"
          },
          "metadata": {}
        }
      ]
    },
    {
      "cell_type": "code",
      "source": [],
      "metadata": {
        "id": "v7EaqvqLK6he"
      },
      "execution_count": null,
      "outputs": []
    }
  ]
}